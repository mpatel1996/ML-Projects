{
  "nbformat": 4,
  "nbformat_minor": 0,
  "metadata": {
    "kernelspec": {
      "display_name": "Python 3",
      "language": "python",
      "name": "python3"
    },
    "language_info": {
      "codemirror_mode": {
        "name": "ipython",
        "version": 3
      },
      "file_extension": ".py",
      "mimetype": "text/x-python",
      "name": "python",
      "nbconvert_exporter": "python",
      "pygments_lexer": "ipython3",
      "version": "3.5.3"
    },
    "colab": {
      "name": "MihirPatel_Assignment_1.ipynb",
      "provenance": [],
      "collapsed_sections": []
    }
  },
  "cells": [
    {
      "cell_type": "markdown",
      "metadata": {
        "deletable": true,
        "editable": true,
        "id": "m_R4z-lmbSjo"
      },
      "source": [
        "<h2>Assignment 1 - Linear Regression on Boston Housing Data</h2>"
      ]
    },
    {
      "cell_type": "code",
      "metadata": {
        "deletable": true,
        "editable": true,
        "id": "WJ3cJxt3bSjp"
      },
      "source": [
        "# The modules we're going to use\n",
        "from __future__ import print_function\n",
        "from sklearn import preprocessing\n",
        "from sklearn.model_selection import train_test_split\n",
        "from sklearn import datasets, linear_model\n",
        "from sklearn.metrics import mean_squared_error\n",
        "from scipy import linalg\n",
        "import numpy as np\n",
        "import matplotlib.pyplot as plt\n",
        "\n",
        "# When you execute a code to plot with a simple SHIFT-ENTER, the plot will be shown directly under the code cell\n",
        "%matplotlib inline"
      ],
      "execution_count": 1,
      "outputs": []
    },
    {
      "cell_type": "code",
      "metadata": {
        "deletable": true,
        "editable": true,
        "id": "VXXIgKFJbSjr",
        "outputId": "aec63d92-57a7-4d9e-ca7b-6f26d370e7a3",
        "colab": {
          "base_uri": "https://localhost:8080/",
          "height": 202
        }
      },
      "source": [
        "# Load data from scikit-learn, which returns (data, target)\n",
        "# note: if you call \"boston = load_boston()\", it returns a dictionary-like object\n",
        "data, target = datasets.load_boston(True)\n",
        "print(data)\n",
        "# Split the data into two parts: training data and testing data\n",
        "train_data,test_data,train_target,test_target = train_test_split(data,(target[:, np.newaxis]), test_size=0.2, random_state=50)\n",
        "print(train_data.shape)\n",
        "print(test_data.shape)\n",
        "print(train_target.shape)\n",
        "print(test_target.shape)"
      ],
      "execution_count": 2,
      "outputs": [
        {
          "output_type": "stream",
          "text": [
            "[[6.3200e-03 1.8000e+01 2.3100e+00 ... 1.5300e+01 3.9690e+02 4.9800e+00]\n",
            " [2.7310e-02 0.0000e+00 7.0700e+00 ... 1.7800e+01 3.9690e+02 9.1400e+00]\n",
            " [2.7290e-02 0.0000e+00 7.0700e+00 ... 1.7800e+01 3.9283e+02 4.0300e+00]\n",
            " ...\n",
            " [6.0760e-02 0.0000e+00 1.1930e+01 ... 2.1000e+01 3.9690e+02 5.6400e+00]\n",
            " [1.0959e-01 0.0000e+00 1.1930e+01 ... 2.1000e+01 3.9345e+02 6.4800e+00]\n",
            " [4.7410e-02 0.0000e+00 1.1930e+01 ... 2.1000e+01 3.9690e+02 7.8800e+00]]\n",
            "(404, 13)\n",
            "(102, 13)\n",
            "(404, 1)\n",
            "(102, 1)\n"
          ],
          "name": "stdout"
        }
      ]
    },
    {
      "cell_type": "markdown",
      "metadata": {
        "deletable": true,
        "editable": true,
        "id": "NA3ezrA-bSjt"
      },
      "source": [
        "<h4>Use scikit-learn library in the following cell</h4>"
      ]
    },
    {
      "cell_type": "code",
      "metadata": {
        "deletable": true,
        "editable": true,
        "id": "hlqomvfpbSjt",
        "outputId": "9aa8920b-769b-4444-9b19-19aca0400798",
        "colab": {
          "base_uri": "https://localhost:8080/",
          "height": 370
        }
      },
      "source": [
        "# Task 1-1: use linear regression in sklearn\n",
        "lin_model = linear_model.LinearRegression()\n",
        "lin_model.fit(train_data, train_target)\n",
        "\n",
        "# Task 1-2: show intercept and coefficents\n",
        "print(\"The Intercept and coefficents\")\n",
        "print(\"-----------------------------\")\n",
        "print('intercept {}'.format(lin_model.intercept_))\n",
        "\n",
        "# reshape the coefficents to view correctly\n",
        "coeff = lin_model.coef_.reshape(13, 1 )\n",
        "print('coefficents {}'.format(coeff))\n",
        "\n",
        "# print('train_target_predict = {}\\ntrain_data = {}\\ntest_target_predict= {}\\ntest_data ={}'.format(train_target_predict.shape,train_data.shape,test_target_predict.shape,test_target.shape))\n",
        "# Task 1-3: show errors on training dataset and testing dataset\n",
        "train_target_predict = lin_model.predict(train_data)\n",
        "target_rmse = (np.sqrt(mean_squared_error(train_target, train_target_predict)))\n",
        "test_target_predict = lin_model.predict(test_data)\n",
        "test_rmse = (np.sqrt(mean_squared_error(test_target, test_target_predict)))\n",
        "\n",
        "print(\"\\nThe training and target data error\")\n",
        "print(\"--------------------------------------\")\n",
        "print('train RMSE is {}'.format(target_rmse))\n",
        "print('Test RMSE is {}'.format(test_rmse))\n"
      ],
      "execution_count": 3,
      "outputs": [
        {
          "output_type": "stream",
          "text": [
            "The Intercept and coefficents\n",
            "-----------------------------\n",
            "intercept [38.31611717]\n",
            "coefficents [[-1.04683734e-01]\n",
            " [ 3.94173679e-02]\n",
            " [ 5.97497992e-02]\n",
            " [ 8.49189549e-01]\n",
            " [-2.11417205e+01]\n",
            " [ 4.18935210e+00]\n",
            " [ 6.15729868e-03]\n",
            " [-1.45337348e+00]\n",
            " [ 2.97609192e-01]\n",
            " [-1.36194161e-02]\n",
            " [-1.09117880e+00]\n",
            " [ 7.84352525e-03]\n",
            " [-4.77003618e-01]]\n",
            "\n",
            "The training and target data error\n",
            "--------------------------------------\n",
            "train RMSE is 4.614331990503534\n",
            "Test RMSE is 5.132790407109293\n"
          ],
          "name": "stdout"
        }
      ]
    },
    {
      "cell_type": "markdown",
      "metadata": {
        "deletable": true,
        "editable": true,
        "id": "RpX2tOa5bSjv"
      },
      "source": [
        "<h4>Use analytical solution (normal equation) to perform linear regression in the following cell</h4>"
      ]
    },
    {
      "cell_type": "code",
      "metadata": {
        "deletable": true,
        "editable": true,
        "id": "YZJJ0sUGbSjv",
        "outputId": "77a5b372-5243-45e5-8952-ec33b7d9b333",
        "colab": {
          "base_uri": "https://localhost:8080/",
          "height": 336
        }
      },
      "source": [
        "# Task 2-1: Implement a function solving normal equation \n",
        "# Inputs: Training data and  training label\n",
        "# Output: Weights\n",
        "def myNormalEqualFun(X,y):\n",
        "    X_Transpose = X.transpose()\n",
        "    return np.dot(np.dot(np.linalg.inv(np.dot(X_Transpose,X)),X_Transpose),y)\n",
        "\n",
        "    \n",
        "# Task 2-2: Implement a function performing prediction\n",
        "# Inputs: Testing data and weights\n",
        "# Output: Predictions\n",
        "def myPredictFun(X,w):\n",
        "  # print('shaaaaaaaaaaaapes', X.shape,w.shape)\n",
        "  return X.dot(w) \n",
        "\n",
        "# Here we insert a column of 1s into training_data and test_data (to be consistent with our lecture slides)\n",
        "train_data_intercept = np.insert(train_data, 0, 1, axis=1)\n",
        "test_data_intercept = np.insert(test_data, 0, 1, axis=1)\n",
        "\n",
        "# Here we call myNormalEqual to train the model and get weights\n",
        "w = myNormalEqualFun(train_data_intercept,train_target)\n",
        "\n",
        "# Task 2-3: show intercept and coefficents\n",
        "intercept = w[0]\n",
        "coefficents = w[1:]\n",
        "print('intercept = {}'.format(intercept))\n",
        "print('Coefficents = {}'.format(coefficents))\n",
        "\n",
        "# Task 2-4: show errors on training dataset and testing dataset\n",
        "train_data_predictFun = myPredictFun(train_data_intercept, w)\n",
        "training_rmse = (np.sqrt(mean_squared_error(train_target, train_data_predictFun)))\n",
        "test_data_predictFun = myPredictFun(test_data_intercept, w)\n",
        "testing_rmse = (np.sqrt(mean_squared_error(test_target, test_data_predictFun)))\n",
        "\n",
        "print(\"\\nThe training and target data error\")\n",
        "print(\"--------------------------------------\")\n",
        "print('training RMSE is {}'.format(training_rmse))\n",
        "print('Testing RMSE is {}'.format(testing_rmse))"
      ],
      "execution_count": 4,
      "outputs": [
        {
          "output_type": "stream",
          "text": [
            "intercept = [38.31611717]\n",
            "Coefficents = [[-1.04683734e-01]\n",
            " [ 3.94173679e-02]\n",
            " [ 5.97497992e-02]\n",
            " [ 8.49189549e-01]\n",
            " [-2.11417205e+01]\n",
            " [ 4.18935210e+00]\n",
            " [ 6.15729868e-03]\n",
            " [-1.45337348e+00]\n",
            " [ 2.97609192e-01]\n",
            " [-1.36194161e-02]\n",
            " [-1.09117880e+00]\n",
            " [ 7.84352525e-03]\n",
            " [-4.77003618e-01]]\n",
            "\n",
            "The training and target data error\n",
            "--------------------------------------\n",
            "training RMSE is 4.614331990503534\n",
            "Testing RMSE is 5.132790407109145\n"
          ],
          "name": "stdout"
        }
      ]
    },
    {
      "cell_type": "markdown",
      "metadata": {
        "deletable": true,
        "editable": true,
        "id": "1hhVEfixbSjx"
      },
      "source": [
        "<h4>Use numerical solution (basic gradient descent) to perform linear regression in the following cell</h4>"
      ]
    },
    {
      "cell_type": "code",
      "metadata": {
        "deletable": true,
        "editable": true,
        "id": "3H1IxOBubSjy",
        "outputId": "93cf62b5-21c5-481a-9460-851205057ca0",
        "colab": {
          "base_uri": "https://localhost:8080/",
          "height": 909
        }
      },
      "source": [
        "# Feature scaling\n",
        "scaler = preprocessing.StandardScaler().fit(train_data)\n",
        "train_data = scaler.transform(train_data)\n",
        "test_data = scaler.transform(test_data)\n",
        "\n",
        "# def costFunc(X,y,N,w):\n",
        "#   cost = np.sum((X.dot(w)-y)**2)/2/N\n",
        "#   return cost\n",
        "  \n",
        "# Task 3-1: Implement a function performing gradient descent\n",
        "# Inputs: Training data, training label, learning rate, number of iterations\n",
        "# Output: the final Weights\n",
        "#         the loss history along iterations\n",
        "def myGradientDescentFun(X,y,learning_rate,numItrs):\n",
        "  # print(X.shape,y.shape)\n",
        "  # w = 0\n",
        "  w = np.zeros((14,1))\n",
        "  loss = [0] * numItrs \n",
        "  N = len(X)\n",
        "\n",
        "  # iter x amount of times to get loss function.\n",
        "  for j in range(numItrs): \n",
        "  # w = w + (np.dot(np.dot((1/N),X.T),(y-X.dot(w)))) * learning_rate   \n",
        "    y_hat = myPredictFun(X,w)\n",
        "    error = y_hat - y\n",
        "    w = w - learning_rate * (X.T.dot(X.dot(w)-y)/N)\n",
        "    cost = np.sum((y_hat-y)**2)/2/N\n",
        "    loss[j] = cost\n",
        "    # print('w for {} iter is {}'.format(j,w))\n",
        "    #subtract for loss function and minimize \n",
        "    # w = w - (learning_rate * (1/N) * np.dot(X.T,error))\n",
        "    # wl.append(w)\n",
        "      \n",
        "  # wl = np.array(wl)\n",
        "  # l = np.array(loss)\n",
        "  return w,loss\n",
        "\n",
        " \n",
        "\n",
        "# Task 3-2: Implement a function performing prediction\n",
        "# Inputs: Testing data and weights\n",
        "# Output: Predictions\n",
        "def myPredictFun(X,w):\n",
        "  # print('in predict',X.shape,w.shape)\n",
        "  return np.dot(X,w)\n",
        "\n",
        "\n",
        "# Here we insert a column of 1s into training_data and test_data (to be consistent with our lecture slides)\n",
        "train_data_intercept = np.insert(train_data, 0, 1, axis=1)\n",
        "test_data_intercept = np.insert(test_data, 0, 1, axis=1)\n",
        "\n",
        "# Here we call myGradientDescentFun to train the model and get weights\n",
        "# Note: you need to figure out good learning rate value and the number of iterations\n",
        "w, loss = myGradientDescentFun(train_data_intercept,train_target,0.03,300)\n",
        "w = np.array(w)\n",
        "loss = np.array(loss)\n",
        "# print(w.shape,loss.shape)\n",
        "# Task 3-3: show intercept and coefficents\n",
        "print(\"Intercept: \", w[0][0])\n",
        "print(\"Coeffs: \", w[1:])\n",
        "\n",
        "# Task 3-4: show errors on training dataset and testing dataset\n",
        "train_data_predictFun = myPredictFun(train_data_intercept, w)\n",
        "training_rmse = (np.sqrt(mean_squared_error(train_target, train_data_predictFun)))\n",
        "test_data_predictFun = myPredictFun(test_data_intercept, w)\n",
        "testing_rmse = (np.sqrt(mean_squared_error(test_target, test_data_predictFun)))\n",
        "\n",
        "print(\"\\nThe training and target data error\")\n",
        "print(\"--------------------------------------\")\n",
        "print('training RMSE is {}'.format(training_rmse))\n",
        "print('Testing RMSE is {}'.format(testing_rmse))\n",
        "\n",
        "# Task 3-5: plot learning curves showing training errors and testing errors along iterations\n",
        "plt.title(\"Cost Function Graph\")\n",
        "plt.xlabel(\"no. Of iterations\")\n",
        "plt.ylabel(\"Cost Function \")\n",
        "plt.plot(loss)\n",
        "plt.show()\n",
        "\n",
        "plt.title(\"Prediction Function Graph\")\n",
        "plt.scatter(test_target, test_target_predict)\n",
        "# plt.plot(test_target_predict, linestyle='dashed')\n",
        "plt.xlabel(\"Actual Price per $1000\")\n",
        "plt.ylabel(\"Predicted Price per $1000\")\n",
        "plt.show()\n",
        "print('Minimum Loss function: ',loss[-1])"
      ],
      "execution_count": 19,
      "outputs": [
        {
          "output_type": "stream",
          "text": [
            "Intercept:  22.58519496757266\n",
            "Coeffs:  [[-0.80371851]\n",
            " [ 0.65976931]\n",
            " [-0.15047483]\n",
            " [ 0.24034141]\n",
            " [-1.79541231]\n",
            " [ 3.20320759]\n",
            " [ 0.02767177]\n",
            " [-2.6536483 ]\n",
            " [ 1.24626345]\n",
            " [-0.96397207]\n",
            " [-2.1723906 ]\n",
            " [ 0.75000602]\n",
            " [-3.3717569 ]]\n",
            "\n",
            "The training and target data error\n",
            "--------------------------------------\n",
            "training RMSE is 4.653936907498962\n",
            "Testing RMSE is 5.131653879356629\n"
          ],
          "name": "stdout"
        },
        {
          "output_type": "display_data",
          "data": {
            "image/png": "[encoded data removed]",
            "text/plain": [
              "<Figure size 432x288 with 1 Axes>"
            ]
          },
          "metadata": {
            "tags": [],
            "needs_background": "light"
          }
        },
        {
          "output_type": "display_data",
          "data": {
            "image/png": "[encoded data removed]",
            "text/plain": [
              "<Figure size 432x288 with 1 Axes>"
            ]
          },
          "metadata": {
            "tags": [],
            "needs_background": "light"
          }
        },
        {
          "output_type": "stream",
          "text": [
            "Minimum Loss function:  10.83061230192977\n"
          ],
          "name": "stdout"
        }
      ]
    },
    {
      "cell_type": "markdown",
      "metadata": {
        "id": "Rx1UOqmfcNe0"
      },
      "source": [
        "<h4>Use numerical solution (stochastic gradient descent) to perform linear regression in the following cell</h4>"
      ]
    },
    {
      "cell_type": "code",
      "metadata": {
        "id": "96_WVyVKcNss",
        "outputId": "82e8c25f-05c4-4425-ca70-e266a7d24c18",
        "colab": {
          "base_uri": "https://localhost:8080/",
          "height": 229
        }
      },
      "source": [
        "# Feature scaling\n",
        "scaler = preprocessing.StandardScaler().fit(train_data)\n",
        "train_data = scaler.transform(train_data)\n",
        "test_data = scaler.transform(test_data)\n",
        "\n",
        "\n",
        "# Task 4-1: Implement a function performing gradient descent\n",
        "# Inputs: Training data, training label, leaerning rate, number of epoches, batch size\n",
        "# Output: the final Weights\n",
        "#         the loss history along batches\n",
        "def myGradientDescentFun(X,y,learning_rate,epoches, batchsize):\n",
        "    return \n",
        "\n",
        "# Task 4-2: Implement a function performing prediction\n",
        "# Inputs: Testing data and weights\n",
        "# Output: Predictions\n",
        "def myPredictFun(X,w):\n",
        "    return\n",
        "\n",
        "# Here we insert a column of 1s into training_data and test_data (to be consistent with our lecture slides)\n",
        "train_data_intercept = np.insert(train_data, 0, 1, axis=1)\n",
        "test_data_intercept = np.insert(test_data, 0, 1, axis=1)\n",
        "\n",
        "# Here we call myGradientDescentFun to train the model and get weights\n",
        "# Note: you need to figure out good learning rate value and the number of iterations\n",
        "w, loss = myGradientDescentFun(train_data_intercept,train_target,0.03,300,0)\n",
        "\n",
        "# Task 4-3: show intercept and coefficents\n",
        "\n",
        "\n",
        "# Task 4-4: show errors on training dataset and testing dataset\n",
        "\n",
        "\n",
        "# Task 4-5: plot learning curves showing training errors and testing errors along bath"
      ],
      "execution_count": 6,
      "outputs": [
        {
          "output_type": "error",
          "ename": "TypeError",
          "evalue": "ignored",
          "traceback": [
            "\u001b[0;31m---------------------------------------------------------------------------\u001b[0m",
            "\u001b[0;31mTypeError\u001b[0m                                 Traceback (most recent call last)",
            "\u001b[0;32m<ipython-input-6-07661a6cf1b9>\u001b[0m in \u001b[0;36m<module>\u001b[0;34m()\u001b[0m\n\u001b[1;32m     24\u001b[0m \u001b[0;31m# Here we call myGradientDescentFun to train the model and get weights\u001b[0m\u001b[0;34m\u001b[0m\u001b[0;34m\u001b[0m\u001b[0;34m\u001b[0m\u001b[0m\n\u001b[1;32m     25\u001b[0m \u001b[0;31m# Note: you need to figure out good learning rate value and the number of iterations\u001b[0m\u001b[0;34m\u001b[0m\u001b[0;34m\u001b[0m\u001b[0;34m\u001b[0m\u001b[0m\n\u001b[0;32m---> 26\u001b[0;31m \u001b[0mw\u001b[0m\u001b[0;34m,\u001b[0m \u001b[0mloss\u001b[0m \u001b[0;34m=\u001b[0m \u001b[0mmyGradientDescentFun\u001b[0m\u001b[0;34m(\u001b[0m\u001b[0mtrain_data_intercept\u001b[0m\u001b[0;34m,\u001b[0m\u001b[0mtrain_target\u001b[0m\u001b[0;34m,\u001b[0m\u001b[0;36m0.03\u001b[0m\u001b[0;34m,\u001b[0m\u001b[0;36m300\u001b[0m\u001b[0;34m,\u001b[0m\u001b[0;36m0\u001b[0m\u001b[0;34m)\u001b[0m\u001b[0;34m\u001b[0m\u001b[0;34m\u001b[0m\u001b[0m\n\u001b[0m\u001b[1;32m     27\u001b[0m \u001b[0;34m\u001b[0m\u001b[0m\n\u001b[1;32m     28\u001b[0m \u001b[0;31m# Task 4-3: show intercept and coefficents\u001b[0m\u001b[0;34m\u001b[0m\u001b[0;34m\u001b[0m\u001b[0;34m\u001b[0m\u001b[0m\n",
            "\u001b[0;31mTypeError\u001b[0m: 'NoneType' object is not iterable"
          ]
        }
      ]
    }
  ]
}
